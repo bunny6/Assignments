{
 "cells": [
  {
   "cell_type": "code",
   "execution_count": 12,
   "id": "2349da42",
   "metadata": {},
   "outputs": [],
   "source": [
    "import openpyxl\n",
    "obj = openpyxl.load_workbook(\"multi_threading_activity.xlsx\")"
   ]
  },
  {
   "cell_type": "code",
   "execution_count": 13,
   "id": "4f6a7072",
   "metadata": {},
   "outputs": [],
   "source": [
    "task1 = obj.active"
   ]
  },
  {
   "cell_type": "code",
   "execution_count": 14,
   "id": "ddbc5d58",
   "metadata": {},
   "outputs": [],
   "source": [
    "mat=[]"
   ]
  },
  {
   "cell_type": "code",
   "execution_count": 16,
   "id": "91c4dc39",
   "metadata": {},
   "outputs": [
    {
     "name": "stderr",
     "output_type": "stream",
     "text": [
      "IOPub data rate exceeded.\n",
      "The notebook server will temporarily stop sending output\n",
      "to the client in order to avoid crashing it.\n",
      "To change this limit, set the config variable\n",
      "`--NotebookApp.iopub_data_rate_limit`.\n",
      "\n",
      "Current values:\n",
      "NotebookApp.iopub_data_rate_limit=1000000.0 (bytes/sec)\n",
      "NotebookApp.rate_limit_window=3.0 (secs)\n",
      "\n"
     ]
    }
   ],
   "source": [
    "for i in range(1, task1.max_row+1):\n",
    "    row=[]\n",
    "    for j in range(1, task1.max_column+1):\n",
    "        cell_obj = task1.cell(row=i, column=j)\n",
    "        row.append(cell_obj.value)\n",
    "        mat.append(row)\n",
    "print(mat)  "
   ]
  },
  {
   "cell_type": "code",
   "execution_count": null,
   "id": "a76aded4",
   "metadata": {},
   "outputs": [],
   "source": [
    "mat.pop()"
   ]
  },
  {
   "cell_type": "code",
   "execution_count": null,
   "id": "63f9fee1",
   "metadata": {},
   "outputs": [],
   "source": [
    "mat.pop()"
   ]
  },
  {
   "cell_type": "code",
   "execution_count": null,
   "id": "2a95f1ca",
   "metadata": {},
   "outputs": [],
   "source": [
    "new=mat[1:]"
   ]
  },
  {
   "cell_type": "code",
   "execution_count": null,
   "id": "04d3697c",
   "metadata": {},
   "outputs": [],
   "source": [
    "for i in range(len(new)):\n",
    "      for j in range(2):\n",
    "            if  type(new[i][j])==str:\n",
    "                 print(new[i][j])\n",
    "                      new[i][j]=0\n",
    "            if  type(new[i][j])==None:\n",
    "                      print(new[i][j])\n",
    "                      new[i][j]=0\n",
    "                \n",
    "            \n",
    "print(new)      \n"
   ]
  },
  {
   "cell_type": "code",
   "execution_count": null,
   "id": "35888731",
   "metadata": {},
   "outputs": [],
   "source": [
    "print(len(new))"
   ]
  },
  {
   "cell_type": "code",
   "execution_count": null,
   "id": "d2228d2f",
   "metadata": {},
   "outputs": [],
   "source": [
    "import threading "
   ]
  },
  {
   "cell_type": "code",
   "execution_count": null,
   "id": "a080b032",
   "metadata": {},
   "outputs": [],
   "source": [
    "def sum_of_two_rows(new):\n",
    "    sumMat=[]\n",
    "    for i in range(len(new)):\n",
    "\n",
    "    if new[i][0] and new[i][1]==None:\n",
    "    sumMat.append(0)\n",
    "    \n",
    "    sumMat.append(new[i][0]+new[i][1])\n",
    "\n",
    "print(sumMat)"
   ]
  },
  {
   "cell_type": "code",
   "execution_count": null,
   "id": "5744b0da",
   "metadata": {},
   "outputs": [],
   "source": [
    "def diff_of_tow_rows(new):\n",
    "    diffMat=[]\n",
    "    for i in range(len(new)):\n",
    "    if new[i][0] and new[i][1]==None:\n",
    "    diffMat.append(0)\n",
    "    diffMat.append(new[i][0]-new[i][1])\n",
    "\n",
    "print(diffMat)"
   ]
  },
  {
   "cell_type": "code",
   "execution_count": null,
   "id": "f1b035d8",
   "metadata": {},
   "outputs": [],
   "source": [
    "t1=threading.Thread(target=sum_of_two_rows,args=(new,))"
   ]
  },
  {
   "cell_type": "code",
   "execution_count": null,
   "id": "cd92b226",
   "metadata": {},
   "outputs": [],
   "source": [
    "t2=threading.Thread(target=diff_of_tow_rows,args=(new,))"
   ]
  },
  {
   "cell_type": "code",
   "execution_count": null,
   "id": "4ad40a5e",
   "metadata": {},
   "outputs": [],
   "source": [
    "t1.start()"
   ]
  },
  {
   "cell_type": "code",
   "execution_count": null,
   "id": "dbe137bd",
   "metadata": {},
   "outputs": [],
   "source": [
    "t2.start()"
   ]
  }
 ],
 "metadata": {
  "kernelspec": {
   "display_name": "Python 3 (ipykernel)",
   "language": "python",
   "name": "python3"
  },
  "language_info": {
   "codemirror_mode": {
    "name": "ipython",
    "version": 3
   },
   "file_extension": ".py",
   "mimetype": "text/x-python",
   "name": "python",
   "nbconvert_exporter": "python",
   "pygments_lexer": "ipython3",
   "version": "3.9.7"
  }
 },
 "nbformat": 4,
 "nbformat_minor": 5
}
