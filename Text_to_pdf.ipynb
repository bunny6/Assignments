{
 "cells": [
  {
   "cell_type": "code",
   "execution_count": 89,
   "id": "a17a1fe0",
   "metadata": {},
   "outputs": [],
   "source": [
    "import PyPDF2"
   ]
  },
  {
   "cell_type": "code",
   "execution_count": 90,
   "id": "cda4fccd",
   "metadata": {},
   "outputs": [],
   "source": [
    "pdfFileObj = open('sample.pdf', 'rb')"
   ]
  },
  {
   "cell_type": "code",
   "execution_count": 91,
   "id": "7b74543b",
   "metadata": {},
   "outputs": [],
   "source": [
    "pdfReader = PyPDF2.PdfFileReader(pdfFileObj)"
   ]
  },
  {
   "cell_type": "code",
   "execution_count": 92,
   "id": "d93c8ce5",
   "metadata": {},
   "outputs": [],
   "source": [
    "n=pdfReader.numPages"
   ]
  },
  {
   "cell_type": "code",
   "execution_count": 93,
   "id": "7cef5cf4",
   "metadata": {},
   "outputs": [
    {
     "name": "stdout",
     "output_type": "stream",
     "text": [
      "2\n"
     ]
    }
   ],
   "source": [
    "print(n)"
   ]
  },
  {
   "cell_type": "code",
   "execution_count": 94,
   "id": "39d3f83f",
   "metadata": {},
   "outputs": [],
   "source": [
    "textfile= open('textfile.txt','w') "
   ]
  },
  {
   "cell_type": "code",
   "execution_count": 95,
   "id": "66b89971",
   "metadata": {},
   "outputs": [
    {
     "name": "stdout",
     "output_type": "stream",
     "text": [
      " A Simple PDF File  This is a small demonstration .pdf file -  just for use in the Virtual Mechanics tutorials. More text. And more  text. And more text. And more text. And more text.  And more text. And more text. And more text. And more text. And more  text. And more text. Boring, zzzzz. And more text. And more text. And  more text. And more text. And more text. And more text. And more text.  And more text. And more text.  And more text. And more text. And more text. And more text. And more  text. And more text. And more text. Even more. Continued on page 2 ...\n",
      " Simple PDF File 2  ...continued from page 1. Yet more text. And more text. And more text.  And more text. And more text. And more text. And more text. And more  text. Oh, how boring typing this stuff. But not as boring as watching  paint dry. And more text. And more text. And more text. And more text.  Boring.  More, a little more text. The end, and just as well. \n"
     ]
    }
   ],
   "source": [
    "for i in range(n):\n",
    "    content=pdfReader.getPage(i).extractText()\n",
    "    print(content)\n",
    "    textfile.write(content)\n",
    "    textfile.write('\\n')\n",
    "    \n",
    "  \n",
    "      \n",
    "      \n",
    "      \n",
    "      \n"
   ]
  },
  {
   "cell_type": "code",
   "execution_count": 96,
   "id": "da07c707",
   "metadata": {},
   "outputs": [],
   "source": [
    "file=open('textfile.txt','r')"
   ]
  },
  {
   "cell_type": "code",
   "execution_count": 97,
   "id": "7fad7105",
   "metadata": {},
   "outputs": [],
   "source": [
    "data = file.read()"
   ]
  },
  {
   "cell_type": "code",
   "execution_count": 98,
   "id": "fe537fcd",
   "metadata": {},
   "outputs": [],
   "source": [
    "def searching_Word(sw):\n",
    "    if sw in data:\n",
    "        occurrences = data.count(sw)\n",
    "        return occurrences\n",
    "    else:\n",
    "        return \"Not Found Matched Word\"\n",
    "        \n",
    "        \n",
    "    \n",
    "  \n",
    "    \n",
    "    \n",
    "  \n",
    "    \n",
    "    \n",
    "    \n",
    "        \n",
    "       \n",
    "          \n",
    "    \n",
    "    \n",
    "   "
   ]
  },
  {
   "cell_type": "code",
   "execution_count": 99,
   "id": "dbdfa8ca",
   "metadata": {},
   "outputs": [
    {
     "name": "stdout",
     "output_type": "stream",
     "text": [
      "Enter the word to searchtext\n",
      "40\n"
     ]
    }
   ],
   "source": [
    "sw=input(\"Enter the word to search\")\n",
    "print(searching_Word(sw))"
   ]
  },
  {
   "cell_type": "code",
   "execution_count": null,
   "id": "be4ac918",
   "metadata": {},
   "outputs": [],
   "source": []
  }
 ],
 "metadata": {
  "kernelspec": {
   "display_name": "Python 3 (ipykernel)",
   "language": "python",
   "name": "python3"
  },
  "language_info": {
   "codemirror_mode": {
    "name": "ipython",
    "version": 3
   },
   "file_extension": ".py",
   "mimetype": "text/x-python",
   "name": "python",
   "nbconvert_exporter": "python",
   "pygments_lexer": "ipython3",
   "version": "3.9.7"
  }
 },
 "nbformat": 4,
 "nbformat_minor": 5
}
