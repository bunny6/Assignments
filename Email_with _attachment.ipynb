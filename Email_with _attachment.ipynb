{
 "cells": [
  {
   "cell_type": "code",
   "execution_count": 1,
   "id": "0c428858",
   "metadata": {},
   "outputs": [],
   "source": [
    "import smtplib  #inbuilt library in python\n",
    "from email.message import EmailMessage"
   ]
  },
  {
   "cell_type": "code",
   "execution_count": 2,
   "id": "e0b8f00e",
   "metadata": {},
   "outputs": [
    {
     "name": "stderr",
     "output_type": "stream",
     "text": [
      "IOPub data rate exceeded.\n",
      "The notebook server will temporarily stop sending output\n",
      "to the client in order to avoid crashing it.\n",
      "To change this limit, set the config variable\n",
      "`--NotebookApp.iopub_data_rate_limit`.\n",
      "\n",
      "Current values:\n",
      "NotebookApp.iopub_data_rate_limit=1000000.0 (bytes/sec)\n",
      "NotebookApp.rate_limit_window=3.0 (secs)\n",
      "\n"
     ]
    },
    {
     "data": {
      "text/plain": [
       "(221,\n",
       " b'2.0.0 closing connection pi10-20020a17090b1e4a00b001bf9749b95bsm2979125pjb.50 - gsmtp')"
      ]
     },
     "execution_count": 2,
     "metadata": {},
     "output_type": "execute_result"
    }
   ],
   "source": [
    "msg=EmailMessage()\n",
    "msg[\"Subject\"]=\"Testing is being done\"\n",
    "msg[\"From\"]=\"Shubham\"\n",
    "msg[\"To\"]='dileepyadavneo@gmail.com'\n",
    "msg.set_content(\"Hello this mail is sent by using python\")\n",
    "with open(\"output.xlsx\",\"rb\") as f:\n",
    "    file_data=f.read()\n",
    "    file_name=f.name\n",
    "    print(\"file name is\",file_name)\n",
    "    msg.add_attachment(file_data,maintype=\"application\",subtype=\"xlsx\",filename=file_name)\n",
    "\n",
    "server=smtplib.SMTP_SSL(\"smtp.gmail.com\",465)\n",
    "server.login(\"ghardes72@gmail.com\",\"Shubham@12\")\n",
    "server.send_message(msg)\n",
    "server.quit()\n"
   ]
  },
  {
   "cell_type": "code",
   "execution_count": null,
   "id": "3bcc736a",
   "metadata": {},
   "outputs": [],
   "source": []
  }
 ],
 "metadata": {
  "kernelspec": {
   "display_name": "Python 3 (ipykernel)",
   "language": "python",
   "name": "python3"
  },
  "language_info": {
   "codemirror_mode": {
    "name": "ipython",
    "version": 3
   },
   "file_extension": ".py",
   "mimetype": "text/x-python",
   "name": "python",
   "nbconvert_exporter": "python",
   "pygments_lexer": "ipython3",
   "version": "3.9.7"
  }
 },
 "nbformat": 4,
 "nbformat_minor": 5
}
