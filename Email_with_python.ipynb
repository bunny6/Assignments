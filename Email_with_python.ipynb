{
 "cells": [
  {
   "cell_type": "code",
   "execution_count": 1,
   "id": "80858aac",
   "metadata": {},
   "outputs": [],
   "source": [
    "import smtplib  #inbuilt library in python\n",
    "from email.message import EmailMessage"
   ]
  },
  {
   "cell_type": "code",
   "execution_count": 13,
   "id": "f9847a82",
   "metadata": {},
   "outputs": [
    {
     "data": {
      "text/plain": [
       "(221,\n",
       " b'2.0.0 closing connection oo16-20020a17090b1c9000b001b89e05e2b2sm2735259pjb.34 - gsmtp')"
      ]
     },
     "execution_count": 13,
     "metadata": {},
     "output_type": "execute_result"
    }
   ],
   "source": [
    "msg=EmailMessage()\n",
    "msg[\"Subject\"]=\"Testing is being done\"\n",
    "msg[\"From\"]=\"Shubham\"\n",
    "msg[\"To\"]='sgharde14@gmail.com'\n",
    "msg.set_content(\"Hello this mail is sent by using python\")\n",
    "\n",
    "server=smtplib.SMTP_SSL(\"smtp.gmail.com\",465)\n",
    "server.login(\"ghardes72@gmail.com\",\"Shubham@12\")\n",
    "server.send_message(msg)\n",
    "server.quit()\n"
   ]
  },
  {
   "cell_type": "code",
   "execution_count": null,
   "id": "935c3530",
   "metadata": {},
   "outputs": [],
   "source": []
  }
 ],
 "metadata": {
  "kernelspec": {
   "display_name": "Python 3 (ipykernel)",
   "language": "python",
   "name": "python3"
  },
  "language_info": {
   "codemirror_mode": {
    "name": "ipython",
    "version": 3
   },
   "file_extension": ".py",
   "mimetype": "text/x-python",
   "name": "python",
   "nbconvert_exporter": "python",
   "pygments_lexer": "ipython3",
   "version": "3.9.7"
  }
 },
 "nbformat": 4,
 "nbformat_minor": 5
}
